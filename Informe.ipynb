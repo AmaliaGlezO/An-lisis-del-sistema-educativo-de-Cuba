{
 "cells": [
  {
   "cell_type": "markdown",
   "metadata": {},
   "source": [
    "# Introduccion\n",
    "El acceso a datos precisos y bien estructurados es fundamental para la toma de decisiones estratégicas en cualquier sector, y la educación no es la excepción. Este informe presenta el diseño y desarrollo de una plataforma de visualización de datos enfocada en el sistema educativo de Cuba. Su propósito es transformar información estadística en representaciones visuales claras y accesibles, permitiendo un análisis detallado de indicadores clave a nivel nacional y provincial.\n",
    "  \n",
    "La plataforma ha sido concebida como una herramienta interactiva para facilitar la exploración y comparación de datos educativos. Dirigida principalmente al Ministerio de Educación, así como a investigadores y profesionales del sector, esta solución busca optimizar el acceso a la información y mejorar la capacidad analítica de sus usuarios.\n",
    "\n",
    "A través de gráficos dinámicos y otras técnicas de visualización, la plataforma permite identificar tendencias, evaluar diferencias y proporcionar información relevante para la planificación y formulación de políticas educativas. Este informe detalla los principios de diseño, la estructura de la herramienta y las estrategias empleadas para garantizar una experiencia intuitiva y eficiente, contribuyendo así a una mejor comprensión y gestión del panorama educativo en Cuba."
   ]
  },
  {
   "cell_type": "markdown",
   "metadata": {},
   "source": [
    "# Desarrollo\n",
    "#### **2. Enfoque del Diseño**  \n",
    "\n",
    "El diseño de la plataforma ha sido concebido con el objetivo de optimizar la experiencia del usuario, asegurando que la exploración y el análisis de los datos educativos sean intuitivos y eficientes. Para lograrlo, se ha seguido un enfoque estructurado que abarca desde la definición del público objetivo hasta la disposición visual de la información, garantizando coherencia y accesibilidad en cada elemento de la interfaz.  \n",
    "\n",
    "En primer lugar, la plataforma está dirigida a funcionarios del Ministerio de Educación, investigadores y demás actores del sector educativo, lo que implica la necesidad de una presentación clara y ordenada de los datos. Dado que estos usuarios requieren realizar análisis comparativos y extraer conclusiones estratégicas, el diseño prioriza la organización lógica de la información, facilitando la identificación de patrones y tendencias relevantes.  \n",
    "\n",
    "Para reforzar la legibilidad y la percepción de confianza, se ha seleccionado una paleta cromática basada en tonos azules y verdes, colores tradicionalmente asociados con la educación, la estabilidad y la toma de decisiones fundamentadas. Estos tonos no solo cumplen una función estética, sino que también contribuyen a generar un ambiente visual que favorece la concentración y la interpretación de la información sin distracciones innecesarias.  \n",
    "\n",
    "Asimismo, la tipografía juega un papel esencial en la accesibilidad de la plataforma. Se ha optado por el uso de fuentes sans-serif, caracterizadas por su claridad y facilidad de lectura en pantallas digitales. Esta elección responde a la necesidad de garantizar una presentación uniforme de los datos en distintos dispositivos, evitando fatiga visual y mejorando la experiencia del usuario al interactuar con grandes volúmenes de información.  \n",
    "\n",
    "Por último, la estructura de la plataforma sigue un principio de jerarquización progresiva, presentando primero una visión general de los datos antes de desglosarlos por provincia y nivel educacional. Este enfoque permite que los usuarios adquieran un contexto amplio antes de profundizar en análisis específicos, facilitando así una interpretación más efectiva de la información y una toma de decisiones más informada.  \n",
    "\n",
    "En conjunto, estos elementos conforman un diseño orientado a la usabilidad y a la claridad analítica, asegurando que la plataforma sea una herramienta eficiente para el estudio y la gestión del sistema educativo en Cuba. \n",
    "\n",
    "#### **3. Estructura del Dashboard**  \n",
    "\n",
    "La estructura de la página ha sido diseñada para ofrecer un análisis detallado de la educación en Cuba desde dos perspectivas fundamentales: una visión general del sistema educativo y un desglose por provincias. Este enfoque busca optimizar la experiencia del usuario, permitiendo que la navegación sea fluida y que la información sea accesible de manera clara y organizada.  \n",
    "\n",
    "Desde el momento en que el usuario accede a la plataforma, se encuentra con la **sección de análisis general**, donde los datos están organizados en categorías bien definidas: **círculos infantiles, primaria, secundaria, preuniversitario y educación superior**. Cada una de estas categorías presenta sus respectivos análisis dentro de un diseño en **bloques de cuatro**, lo que facilita la comprensión de la información sin generar una sobrecarga visual. Esta disposición permite que el usuario explore cada segmento sin perder el contexto de la sección en la que se encuentra.  \n",
    "\n",
    "\n",
    "![aa]('Captura de pantalla 2025-02-08 101340.png')\n",
    "\n",
    "Para garantizar una navegación dinámica, cuando una sección contiene más de cuatro análisis, se incorpora un **cursor de desplazamiento horizontal**, permitiendo recorrer los distintos estudios sin necesidad de abandonar la página principal. Esta solución mantiene la coherencia visual y evita que el usuario deba realizar desplazamientos extensos, mejorando así la usabilidad de la plataforma.  \n",
    "\n",
    "Más abajo en la página, se presentan los **análisis generales**, donde la información ya no está separada por niveles educativos. Esta sección permite realizar **comparaciones globales** entre los distintos niveles, ofreciendo una perspectiva integral del sistema educativo y facilitando la identificación de tendencias generales.  \n",
    "\n",
    "Por otro lado, la estructura de la **sección de provincias** sigue un esquema similar, pero con una particularidad: al seleccionar esta opción, el usuario visualiza un **cartel emergente con la lista completa de provincias**, lo que le permite acceder a la información específica de cada territorio con un solo clic. Este diseño evita la necesidad de desplazamientos extensos y asegura que la interacción con la plataforma sea rápida e intuitiva.  \n",
    "\n",
    "### **Elementos Gráficos en la Visualización**  \n",
    "\n",
    "En esta elaboración se ha empleado una serie de elementos gráficos cuidadosamente seleccionados para mejorar la claridad y accesibilidad de la información. La integración de estos elementos busca facilitar la comprensión del contenido y proporcionar una estructura visual coherente que optimice la experiencia del lector y potencie el impacto de los datos presentados.  \n",
    "\n",
    "La tipografía utilizada en este informe es **Plus Jakarta Sans**, una fuente moderna y legible que favorece la lectura. Su aplicación se distribuye estratégicamente en los distintos niveles de la página para establecer jerarquías visuales claras. En el título principal se emplea en un tamaño destacado que permite captar de inmediato la atención del lector. Los subtítulos y encabezados mantienen la misma tipografía con variaciones en el tamaño y peso para diferenciar secciones y facilitar la navegación dentro del documento. En el cuerpo del informe se mantiene una versión regular de la tipografía que contribuye a la uniformidad y facilita la lectura prolongada. Para enfatizar puntos clave se aplican variaciones en el grosor o el uso de negritas asegurando que los elementos más importantes resalten sin afectar la armonía visual del documento.  \n",
    "\n",
    "La paleta de colores seleccionada responde a criterios de legibilidad y coherencia visual garantizando una presentación clara y atractiva del contenido, además de no destacar por ensima de los gráficos. El color principal **#CCC5B7** se ha empleado en los fondos de secciones y áreas destacadas proporcionando un contraste sutil y equilibrado con el resto del contenido. Este color también se integra en gráficos y representaciones visuales para mantener la consistencia estética. El color secundario **#FFFFFF** predomina en los fondos de texto y espacios de contenido facilitando la lectura y promoviendo un uso efectivo del espacio negativo que ayuda a segmentar la información de manera ordenada. La legibilidad del texto se refuerza con el uso del color *#675741* que se aplica en el cuerpo del informe y en los encabezados generando un contraste adecuado con los fondos claros sin generar fatiga visual. Como complemento el color **#E5BB89** se reserva para elementos clave dentro del diseño.  \n",
    "\n",
    "Además del uso de tipografía y color se han incorporado otros elementos gráficos que enriquecen la presentación de la información y facilitan su comprensión. Los iconos cumplen un papel importante al acompañar títulos y encabezados proporcionando una representación visual de los conceptos abordados en cada sección. \n",
    "\n",
    "La inclusión de gráficos y diagramas es fundamental para la representación clara de los datos. Se han empleado gráficos de barras líneas y pastel en los cuales los colores principales y complementarios ayudan a diferenciar las categorías y resaltar la información relevante. Los diagramas de flujo también han sido diseñados con esta misma lógica permitiendo ilustrar procesos educativos de manera clara y estructurada.  \n",
    "\n",
    "El espaciado y los márgenes juegan un papel clave en la presentación visual del informe. Se ha garantizado un uso adecuado del espacio negativo para evitar la saturación de información permitiendo que cada sección respire y se mantenga una lectura cómoda. El contenido está distribuido de manera equilibrada con márgenes que proporcionan una estructura ordenada y facilitan la navegación dentro del documento.  \n",
    "\n",
    "Para reforzar la organización del contenido se han integrado líneas y separadores sutiles que delimitan las secciones y mejoran la fluidez visual del informe. Estos elementos ayudan a estructurar la información de manera efectiva asegurando que el lector pueda identificar con facilidad las diferentes partes del documento sin generar interrupciones en la experiencia de lectura.  \n",
    "\n",
    "\n",
    "\n"
   ]
  },
  {
   "cell_type": "markdown",
   "metadata": {},
   "source": [
    "\n",
    "#  Conclusiones\n",
    "El diseño de esta plataforma de visualización de datos busca facilitar el análisis y la toma de decisiones en el sector educativo cubano. La estructura organizada y el uso de elementos visuales apropiados garantizan una experiencia intuitiva para los usuarios, contribuyendo así a una mejor comprensión de la situación educativa del país."
   ]
  },
  {
   "cell_type": "markdown",
   "metadata": {},
   "source": [
    "#403D39 (gris oscuro)\n",
    "\n",
    "#FFFCF2 (blanco roto)\n",
    "\n",
    "#EB5E28 (naranja terracota)\n",
    "\n",
    "#252422 (casi negro)\n",
    "\n",
    "#7E8D85 (verde grisáceo)\n",
    "\n",
    "#D8D2C3 (beige claro)\n",
    "\n",
    "#B8B2A6 (beige grisáceo oscuro)\n",
    "\n",
    "#E0DAD1 (beige cálido)\n",
    "\n",
    "#A68A64 (marrón claro)\n",
    "\n",
    "#6B705C (verde apagado)\n",
    "\n",
    "#D4A373 (naranja suave)"
   ]
  }
 ],
 "metadata": {
  "language_info": {
   "name": "python"
  }
 },
 "nbformat": 4,
 "nbformat_minor": 2
}

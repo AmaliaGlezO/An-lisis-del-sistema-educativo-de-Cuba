{
 "cells": [
  {
   "cell_type": "markdown",
   "metadata": {},
   "source": [
    "#### Elementos graficos: \n",
    "- Tipografia: 'Plus Jakarta Sans', sans-serif\n",
    "- Color Principal: #CCC5B7\n",
    "- Color Secundario: #FFFFFF\n",
    "- Color de la letra: #675741\n",
    "- Color complementario: #E5BB89 "
   ]
  },
  {
   "cell_type": "markdown",
   "metadata": {},
   "source": [
    "#### Publico \n",
    "- Ministerio de educacion en sus diferentes niveles"
   ]
  }
 ],
 "metadata": {
  "language_info": {
   "name": "python"
  }
 },
 "nbformat": 4,
 "nbformat_minor": 2
}
